{
 "cells": [
  {
   "cell_type": "markdown",
   "id": "dc7b1a92-2b9b-4118-bd5e-31687670a375",
   "metadata": {},
   "source": [
    "# Data Preprocessing"
   ]
  },
  {
   "cell_type": "code",
   "execution_count": 1,
   "id": "86ab2e19-af7e-4342-af87-94e07ecc5c0c",
   "metadata": {},
   "outputs": [],
   "source": [
    "import pandas as pd\n",
    "import sqlite3"
   ]
  },
  {
   "cell_type": "code",
   "execution_count": 2,
   "id": "1a930a02-ccf2-4393-894c-1b4b6e601923",
   "metadata": {},
   "outputs": [],
   "source": [
    "conn = sqlite3.connect(\"./news_data_2.db\")"
   ]
  },
  {
   "cell_type": "code",
   "execution_count": 3,
   "id": "37bced56-618a-46f2-9192-7f1bf93bd85c",
   "metadata": {},
   "outputs": [],
   "source": [
    "sql = \"select x.*, y.content from (select * from news_2 where rubrik2 not null) x inner join extracted_text y on x.url=y.url\""
   ]
  },
  {
   "cell_type": "code",
   "execution_count": 4,
   "id": "515b1371-1353-4273-8586-f93438dc6b90",
   "metadata": {},
   "outputs": [],
   "source": [
    "df = pd.read_sql(sql, con=conn)"
   ]
  },
  {
   "cell_type": "code",
   "execution_count": 5,
   "id": "0fa3ced8-42f9-4e6f-82a4-dcb44d7bbb70",
   "metadata": {},
   "outputs": [],
   "source": [
    "df2 = df[['rubrik2', 'content']].copy()"
   ]
  },
  {
   "cell_type": "code",
   "execution_count": 6,
   "id": "5c08658f-030b-4e97-bdcd-bb5956501e15",
   "metadata": {},
   "outputs": [],
   "source": [
    "df2['content'] = df2['content'].str.replace(r'^.*?jpnn\\.com', '', regex=True)\n",
    "df2['content'] = df2['content'].str.replace(r'[^\\w.,\\s]', '', regex=True)\n",
    "df2['content'] = df2['content'].str.replace(r'\\b\\w*jpnn\\w*\\b', ' ', regex=True)\n",
    "df2['content'] = df2['content'].str.replace(r' , ', ' ', regex=True)\n",
    "df2['content'] = df2['content'].str.replace(r'\\s+', ' ', regex=True)\n",
    "df2['content'] = df2['content'].str.lower()"
   ]
  },
  {
   "cell_type": "code",
   "execution_count": 7,
   "id": "7f459612-aa1f-417a-90ba-0e8afbb73aba",
   "metadata": {},
   "outputs": [],
   "source": [
    "df2.columns = [\"label\", 'text']"
   ]
  },
  {
   "cell_type": "code",
   "execution_count": 8,
   "id": "8c83ebf6-c99e-4fd1-b8f4-a6a0e501635a",
   "metadata": {},
   "outputs": [
    {
     "data": {
      "text/plain": [
       "label\n",
       "POLITIK                  6543\n",
       "SOSIAL DAN BUDAYA        6045\n",
       "OLAHRAGA                 3226\n",
       "EKONOMI DAN BISNIS       2713\n",
       "KRIMINAL                 2047\n",
       "TEKNOLOGI DAN INOVASI     421\n",
       "PENDIDIKAN                175\n",
       "Name: count, dtype: int64"
      ]
     },
     "execution_count": 8,
     "metadata": {},
     "output_type": "execute_result"
    }
   ],
   "source": [
    "df2.value_counts('label')"
   ]
  },
  {
   "cell_type": "code",
   "execution_count": 9,
   "id": "a3d12950-c070-4fff-9dad-bf54298998d5",
   "metadata": {},
   "outputs": [],
   "source": [
    "label_code = {\n",
    "    \"POLITIK\": 0,\n",
    "    \"SOSIAL DAN BUDAYA\": 1,\n",
    "    \"OLAHRAGA\": 2,\n",
    "    \"EKONOMI DAN BISNIS\": 3,\n",
    "    \"KRIMINAL\": 4,\n",
    "    \"TEKNOLOGI DAN INOVASI\": 5,\n",
    "    \"PENDIDIKAN\": 6\n",
    "}\n",
    "\n",
    "def label_encoding(x):\n",
    "    return label_code[x]"
   ]
  },
  {
   "cell_type": "code",
   "execution_count": 10,
   "id": "bc03022b-647c-4161-8fdd-03faa210f456",
   "metadata": {},
   "outputs": [
    {
     "data": {
      "text/plain": [
       "5"
      ]
     },
     "execution_count": 10,
     "metadata": {},
     "output_type": "execute_result"
    }
   ],
   "source": [
    "label_encoding(\"TEKNOLOGI DAN INOVASI\")"
   ]
  },
  {
   "cell_type": "code",
   "execution_count": 11,
   "id": "4494457f-21da-4f55-a34c-b248bb9499ef",
   "metadata": {},
   "outputs": [],
   "source": [
    "df2['label'] = df2['label'].apply(label_encoding)"
   ]
  },
  {
   "cell_type": "code",
   "execution_count": 12,
   "id": "b4facd61-e7ce-46d7-bb7c-f6097943abd0",
   "metadata": {},
   "outputs": [
    {
     "data": {
      "text/html": [
       "<div>\n",
       "<style scoped>\n",
       "    .dataframe tbody tr th:only-of-type {\n",
       "        vertical-align: middle;\n",
       "    }\n",
       "\n",
       "    .dataframe tbody tr th {\n",
       "        vertical-align: top;\n",
       "    }\n",
       "\n",
       "    .dataframe thead th {\n",
       "        text-align: right;\n",
       "    }\n",
       "</style>\n",
       "<table border=\"1\" class=\"dataframe\">\n",
       "  <thead>\n",
       "    <tr style=\"text-align: right;\">\n",
       "      <th></th>\n",
       "      <th>label</th>\n",
       "      <th>text</th>\n",
       "    </tr>\n",
       "  </thead>\n",
       "  <tbody>\n",
       "    <tr>\n",
       "      <th>0</th>\n",
       "      <td>1</td>\n",
       "      <td>jakarta bupati tapanuli utara dr. drs. nikson...</td>\n",
       "    </tr>\n",
       "    <tr>\n",
       "      <th>1</th>\n",
       "      <td>0</td>\n",
       "      <td>jakarta pendukung dan pemilih pasangan prabow...</td>\n",
       "    </tr>\n",
       "    <tr>\n",
       "      <th>2</th>\n",
       "      <td>2</td>\n",
       "      <td>tim voli jakarta pertamina siap mengarungi ko...</td>\n",
       "    </tr>\n",
       "    <tr>\n",
       "      <th>3</th>\n",
       "      <td>5</td>\n",
       "      <td>jakarta produkproduk soundcore seperti open e...</td>\n",
       "    </tr>\n",
       "    <tr>\n",
       "      <th>4</th>\n",
       "      <td>2</td>\n",
       "      <td>jakarta persija jakarta berhasil memenangkan ...</td>\n",
       "    </tr>\n",
       "    <tr>\n",
       "      <th>...</th>\n",
       "      <td>...</td>\n",
       "      <td>...</td>\n",
       "    </tr>\n",
       "    <tr>\n",
       "      <th>21165</th>\n",
       "      <td>2</td>\n",
       "      <td>london arsenal harus mengubur mimpi bertakhta...</td>\n",
       "    </tr>\n",
       "    <tr>\n",
       "      <th>21166</th>\n",
       "      <td>3</td>\n",
       "      <td>kupang kabid propam polda nusa tenggara timur...</td>\n",
       "    </tr>\n",
       "    <tr>\n",
       "      <th>21167</th>\n",
       "      <td>1</td>\n",
       "      <td>jakarta kapolri jenderal listyo sigit prabowo...</td>\n",
       "    </tr>\n",
       "    <tr>\n",
       "      <th>21168</th>\n",
       "      <td>1</td>\n",
       "      <td>manado badan meteorologi, klimatologi dan geo...</td>\n",
       "    </tr>\n",
       "    <tr>\n",
       "      <th>21169</th>\n",
       "      <td>5</td>\n",
       "      <td>jakarta utara uncle bens 23 meresmikan resto ...</td>\n",
       "    </tr>\n",
       "  </tbody>\n",
       "</table>\n",
       "<p>21170 rows × 2 columns</p>\n",
       "</div>"
      ],
      "text/plain": [
       "       label                                               text\n",
       "0          1   jakarta bupati tapanuli utara dr. drs. nikson...\n",
       "1          0   jakarta pendukung dan pemilih pasangan prabow...\n",
       "2          2   tim voli jakarta pertamina siap mengarungi ko...\n",
       "3          5   jakarta produkproduk soundcore seperti open e...\n",
       "4          2   jakarta persija jakarta berhasil memenangkan ...\n",
       "...      ...                                                ...\n",
       "21165      2   london arsenal harus mengubur mimpi bertakhta...\n",
       "21166      3   kupang kabid propam polda nusa tenggara timur...\n",
       "21167      1   jakarta kapolri jenderal listyo sigit prabowo...\n",
       "21168      1   manado badan meteorologi, klimatologi dan geo...\n",
       "21169      5   jakarta utara uncle bens 23 meresmikan resto ...\n",
       "\n",
       "[21170 rows x 2 columns]"
      ]
     },
     "execution_count": 12,
     "metadata": {},
     "output_type": "execute_result"
    }
   ],
   "source": [
    "df2"
   ]
  },
  {
   "cell_type": "markdown",
   "id": "dbb89385-2fb5-44c2-8011-7838755ef611",
   "metadata": {},
   "source": [
    "# Data Modelling"
   ]
  },
  {
   "cell_type": "code",
   "execution_count": 13,
   "id": "3a26722c-a3f6-450d-a9a5-6bf80a6b4deb",
   "metadata": {},
   "outputs": [
    {
     "name": "stderr",
     "output_type": "stream",
     "text": [
      "C:\\ProgramData\\miniconda3\\envs\\scraping2\\lib\\site-packages\\tqdm\\auto.py:21: TqdmWarning: IProgress not found. Please update jupyter and ipywidgets. See https://ipywidgets.readthedocs.io/en/stable/user_install.html\n",
      "  from .autonotebook import tqdm as notebook_tqdm\n"
     ]
    }
   ],
   "source": [
    "import pandas as pd\n",
    "import torch\n",
    "from datasets import Dataset\n",
    "from transformers import AutoTokenizer, AutoModelForSequenceClassification, TrainingArguments, Trainer\n",
    "from sklearn.model_selection import train_test_split\n",
    "from torch.utils.data import DataLoader"
   ]
  },
  {
   "cell_type": "code",
   "execution_count": 14,
   "id": "aa5ce787-2854-4001-815d-609a47a5c550",
   "metadata": {},
   "outputs": [],
   "source": [
    "num_labels = len(df2['label'].unique())"
   ]
  },
  {
   "cell_type": "code",
   "execution_count": 15,
   "id": "b539d498-3e30-43c8-949f-713b19f4e553",
   "metadata": {},
   "outputs": [
    {
     "name": "stderr",
     "output_type": "stream",
     "text": [
      "C:\\ProgramData\\miniconda3\\envs\\scraping2\\lib\\site-packages\\huggingface_hub\\file_download.py:1132: FutureWarning: `resume_download` is deprecated and will be removed in version 1.0.0. Downloads always resume when possible. If you want to force a new download, use `force_download=True`.\n",
      "  warnings.warn(\n"
     ]
    }
   ],
   "source": [
    "tokenizer = AutoTokenizer.from_pretrained('indobenchmark/indobert-base-p2')"
   ]
  },
  {
   "cell_type": "code",
   "execution_count": 16,
   "id": "2e8041cf-d71c-4bcc-b514-def96e8314d6",
   "metadata": {},
   "outputs": [],
   "source": [
    "# model = AutoModel.from_pretrained(\"indobenchmark/indobert-base-p2\", num_labels=7)"
   ]
  },
  {
   "cell_type": "code",
   "execution_count": 17,
   "id": "bbc7b1d1-18be-4eb9-8500-7b2e724bdeb1",
   "metadata": {},
   "outputs": [],
   "source": [
    "from datasets import Dataset"
   ]
  },
  {
   "cell_type": "code",
   "execution_count": 18,
   "id": "8cb422b2-1bf1-4ad5-b369-ee9501af995b",
   "metadata": {},
   "outputs": [],
   "source": [
    "from sklearn.model_selection import train_test_split\n",
    "\n",
    "train_df, test_df = train_test_split(df2, test_size=0.2, random_state=42)\n",
    "train_dataset = Dataset.from_pandas(train_df)\n",
    "test_dataset = Dataset.from_pandas(test_df)"
   ]
  },
  {
   "cell_type": "code",
   "execution_count": 19,
   "id": "c0183a35-f862-44aa-9290-5b173f29e771",
   "metadata": {},
   "outputs": [],
   "source": [
    "def tokenize_function(examples):\n",
    "    return tokenizer(examples['text'], padding=\"max_length\", truncation=True, max_length=512)  # Sesuaikan `max_length` dengan kebutuhan"
   ]
  },
  {
   "cell_type": "code",
   "execution_count": 20,
   "id": "f0a79260-adee-4712-aa14-2f4739d9ef1a",
   "metadata": {},
   "outputs": [
    {
     "name": "stderr",
     "output_type": "stream",
     "text": [
      "Map: 100%|███████████████████████████████████████████████████████████████| 16936/16936 [00:17<00:00, 985.74 examples/s]\n",
      "Map: 100%|████████████████████████████████████████████████████████████████| 4234/4234 [00:03<00:00, 1071.22 examples/s]\n"
     ]
    }
   ],
   "source": [
    "train_dataset = train_dataset.map(tokenize_function, batched=True)\n",
    "test_dataset = test_dataset.map(tokenize_function, batched=True)"
   ]
  },
  {
   "cell_type": "code",
   "execution_count": 21,
   "id": "66cec1b8-17d5-4097-b44b-e4e8540ec61e",
   "metadata": {},
   "outputs": [],
   "source": [
    "def collate_fn(batch):\n",
    "    return {\n",
    "        'input_ids': torch.stack([torch.tensor(d['input_ids']) for d in batch]),\n",
    "        'attention_mask': torch.stack([torch.tensor(d['attention_mask']) for d in batch]),\n",
    "        'labels': torch.tensor([d['label'] for d in batch])\n",
    "    }\n",
    "\n",
    "train_dataloader = DataLoader(train_dataset, batch_size=16, shuffle=True, collate_fn=collate_fn)\n",
    "test_dataloader = DataLoader(test_dataset, batch_size=16, collate_fn=collate_fn)\n"
   ]
  },
  {
   "cell_type": "code",
   "execution_count": 22,
   "id": "8b89dd3f-6da4-4a75-919b-e4e8953f0ffa",
   "metadata": {},
   "outputs": [
    {
     "name": "stderr",
     "output_type": "stream",
     "text": [
      "Some weights of BertForSequenceClassification were not initialized from the model checkpoint at indobenchmark/indobert-base-p2 and are newly initialized: ['classifier.bias', 'classifier.weight']\n",
      "You should probably TRAIN this model on a down-stream task to be able to use it for predictions and inference.\n"
     ]
    }
   ],
   "source": [
    "model = AutoModelForSequenceClassification.from_pretrained('indobenchmark/indobert-base-p2', num_labels=len(df2['label'].unique()))\n",
    "# model.to('cuda' if torch.cuda.is_available() else 'cpu')\n",
    "model.to('cpu')\n",
    "optimizer = torch.optim.AdamW(model.parameters(), lr=5e-5)"
   ]
  },
  {
   "cell_type": "code",
   "execution_count": 24,
   "id": "4239efae-ffeb-49dd-964a-7200a17bf91f",
   "metadata": {},
   "outputs": [
    {
     "name": "stderr",
     "output_type": "stream",
     "text": [
      "\n",
      "KeyboardInterrupt\n",
      "\n"
     ]
    }
   ],
   "source": [
    "# device = torch.device(\"cuda\" if torch.cuda.is_available() else \"cpu\")\n",
    "device = torch.device(\"cpu\")\n",
    "num_epochs = 5\n",
    "\n",
    "model.train()\n",
    "for epoch in range(num_epochs):\n",
    "    for batch in train_dataloader:\n",
    "        batch = {k: v.to(device) for k, v in batch.items()}\n",
    "        outputs = model(**batch)\n",
    "        loss = outputs.loss\n",
    "        loss.backward()\n",
    "        optimizer.step()\n",
    "        optimizer.zero_grad()\n",
    "    print(f'Epoch {epoch+1}, Loss: {loss.item()}')\n"
   ]
  },
  {
   "cell_type": "code",
   "execution_count": null,
   "id": "726343af-6ff5-4f45-88e3-39b595cbc609",
   "metadata": {},
   "outputs": [],
   "source": []
  }
 ],
 "metadata": {
  "kernelspec": {
   "display_name": "Python 3 (ipykernel)",
   "language": "python",
   "name": "python3"
  },
  "language_info": {
   "codemirror_mode": {
    "name": "ipython",
    "version": 3
   },
   "file_extension": ".py",
   "mimetype": "text/x-python",
   "name": "python",
   "nbconvert_exporter": "python",
   "pygments_lexer": "ipython3",
   "version": "3.10.14"
  }
 },
 "nbformat": 4,
 "nbformat_minor": 5
}
