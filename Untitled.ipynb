{
 "cells": [
  {
   "cell_type": "code",
   "execution_count": 8,
   "id": "25c4231e-ade1-42c7-b638-3edceb4992f2",
   "metadata": {},
   "outputs": [],
   "source": [
    "import requests\n",
    "from lxml import html"
   ]
  },
  {
   "cell_type": "code",
   "execution_count": 9,
   "id": "b216015d-685f-4715-a0df-09037a327a44",
   "metadata": {},
   "outputs": [],
   "source": [
    "import datetime\n",
    "\n",
    "# Menetapkan tanggal awal dan tanggal akhir\n",
    "start_date = datetime.date(2024, 3, 31)\n",
    "end_date = datetime.date(2024, 1, 1)\n",
    "\n",
    "# Base URL tanpa parameter tanggal\n",
    "base_url = 'https://www.jpnn.com/indeks?id=&d={}&m={}&y={}'\n",
    "\n",
    "# Iterasi mundur dari tanggal awal ke tanggal akhir\n",
    "current_date = start_date\n",
    "\n",
    "formatted_url = []\n",
    "\n",
    "while current_date >= end_date:\n",
    "    # Membuat URL dengan menambahkan tanggal yang diformat\n",
    "    formatted_url.append(base_url.format(current_date.day, current_date.month, current_date.year))\n",
    "    \n",
    "    # Mengurangi satu hari\n",
    "    current_date -= datetime.timedelta(days=1)"
   ]
  },
  {
   "cell_type": "code",
   "execution_count": 10,
   "id": "46ef0bf1-6da1-41be-95df-750ca58c887b",
   "metadata": {},
   "outputs": [
    {
     "data": {
      "text/plain": [
       "'https://www.jpnn.com/indeks?id=&d=31&m=3&y=2024&page=1'"
      ]
     },
     "execution_count": 10,
     "metadata": {},
     "output_type": "execute_result"
    }
   ],
   "source": [
    "formatted_url[0]+\"&page=\"+\"1\""
   ]
  },
  {
   "cell_type": "code",
   "execution_count": 11,
   "id": "663a6888-6258-4a43-8a1b-90e14b36decf",
   "metadata": {},
   "outputs": [],
   "source": [
    "import sqlite3\n",
    "\n",
    "# Membuat koneksi ke database SQLite\n",
    "conn = sqlite3.connect('./news_data.db')\n",
    "c = conn.cursor()\n",
    "\n",
    "# Membuat tabel baru jika belum ada\n",
    "c.execute('''\n",
    "CREATE TABLE IF NOT EXISTS news (\n",
    "    judul TEXT,\n",
    "    url TEXT,\n",
    "    rubrik TEXT,\n",
    "    tanggal TEXT\n",
    ")\n",
    "''')\n",
    "conn.commit()"
   ]
  },
  {
   "cell_type": "code",
   "execution_count": 12,
   "id": "9bbf81d1-c251-490d-bd65-aea147538afb",
   "metadata": {},
   "outputs": [],
   "source": [
    "from tqdm import tqdm"
   ]
  },
  {
   "cell_type": "code",
   "execution_count": 13,
   "id": "f8b40a07-c972-4f6b-acff-41c7e119efea",
   "metadata": {},
   "outputs": [],
   "source": [
    "import warnings\n",
    "\n",
    "warnings.simplefilter('ignore')"
   ]
  },
  {
   "cell_type": "code",
   "execution_count": 14,
   "id": "eb718c91-c490-42a8-97c2-df3ccdec0b50",
   "metadata": {},
   "outputs": [
    {
     "name": "stderr",
     "output_type": "stream",
     "text": [
      " 56%|█████████████████████████████████████████████▉                                    | 51/91 [07:50<06:08,  9.22s/it]\n"
     ]
    },
    {
     "ename": "ConnectionError",
     "evalue": "HTTPSConnectionPool(host='www.jpnn.com', port=443): Max retries exceeded with url: /indeks?id=&d=9&m=2&y=2024&page=13 (Caused by NameResolutionError(\"<urllib3.connection.HTTPSConnection object at 0x00000241052E1990>: Failed to resolve 'www.jpnn.com' ([Errno 11002] getaddrinfo failed)\"))",
     "output_type": "error",
     "traceback": [
      "\u001b[1;31m---------------------------------------------------------------------------\u001b[0m",
      "\u001b[1;31mgaierror\u001b[0m                                  Traceback (most recent call last)",
      "File \u001b[1;32mC:\\ProgramData\\miniconda3\\envs\\scraping2\\lib\\site-packages\\urllib3\\connection.py:198\u001b[0m, in \u001b[0;36mHTTPConnection._new_conn\u001b[1;34m(self)\u001b[0m\n\u001b[0;32m    197\u001b[0m \u001b[38;5;28;01mtry\u001b[39;00m:\n\u001b[1;32m--> 198\u001b[0m     sock \u001b[38;5;241m=\u001b[39m \u001b[43mconnection\u001b[49m\u001b[38;5;241;43m.\u001b[39;49m\u001b[43mcreate_connection\u001b[49m\u001b[43m(\u001b[49m\n\u001b[0;32m    199\u001b[0m \u001b[43m        \u001b[49m\u001b[43m(\u001b[49m\u001b[38;5;28;43mself\u001b[39;49m\u001b[38;5;241;43m.\u001b[39;49m\u001b[43m_dns_host\u001b[49m\u001b[43m,\u001b[49m\u001b[43m \u001b[49m\u001b[38;5;28;43mself\u001b[39;49m\u001b[38;5;241;43m.\u001b[39;49m\u001b[43mport\u001b[49m\u001b[43m)\u001b[49m\u001b[43m,\u001b[49m\n\u001b[0;32m    200\u001b[0m \u001b[43m        \u001b[49m\u001b[38;5;28;43mself\u001b[39;49m\u001b[38;5;241;43m.\u001b[39;49m\u001b[43mtimeout\u001b[49m\u001b[43m,\u001b[49m\n\u001b[0;32m    201\u001b[0m \u001b[43m        \u001b[49m\u001b[43msource_address\u001b[49m\u001b[38;5;241;43m=\u001b[39;49m\u001b[38;5;28;43mself\u001b[39;49m\u001b[38;5;241;43m.\u001b[39;49m\u001b[43msource_address\u001b[49m\u001b[43m,\u001b[49m\n\u001b[0;32m    202\u001b[0m \u001b[43m        \u001b[49m\u001b[43msocket_options\u001b[49m\u001b[38;5;241;43m=\u001b[39;49m\u001b[38;5;28;43mself\u001b[39;49m\u001b[38;5;241;43m.\u001b[39;49m\u001b[43msocket_options\u001b[49m\u001b[43m,\u001b[49m\n\u001b[0;32m    203\u001b[0m \u001b[43m    \u001b[49m\u001b[43m)\u001b[49m\n\u001b[0;32m    204\u001b[0m \u001b[38;5;28;01mexcept\u001b[39;00m socket\u001b[38;5;241m.\u001b[39mgaierror \u001b[38;5;28;01mas\u001b[39;00m e:\n",
      "File \u001b[1;32mC:\\ProgramData\\miniconda3\\envs\\scraping2\\lib\\site-packages\\urllib3\\util\\connection.py:60\u001b[0m, in \u001b[0;36mcreate_connection\u001b[1;34m(address, timeout, source_address, socket_options)\u001b[0m\n\u001b[0;32m     58\u001b[0m     \u001b[38;5;28;01mraise\u001b[39;00m LocationParseError(\u001b[38;5;124mf\u001b[39m\u001b[38;5;124m\"\u001b[39m\u001b[38;5;124m'\u001b[39m\u001b[38;5;132;01m{\u001b[39;00mhost\u001b[38;5;132;01m}\u001b[39;00m\u001b[38;5;124m'\u001b[39m\u001b[38;5;124m, label empty or too long\u001b[39m\u001b[38;5;124m\"\u001b[39m) \u001b[38;5;28;01mfrom\u001b[39;00m \u001b[38;5;28;01mNone\u001b[39;00m\n\u001b[1;32m---> 60\u001b[0m \u001b[38;5;28;01mfor\u001b[39;00m res \u001b[38;5;129;01min\u001b[39;00m \u001b[43msocket\u001b[49m\u001b[38;5;241;43m.\u001b[39;49m\u001b[43mgetaddrinfo\u001b[49m\u001b[43m(\u001b[49m\u001b[43mhost\u001b[49m\u001b[43m,\u001b[49m\u001b[43m \u001b[49m\u001b[43mport\u001b[49m\u001b[43m,\u001b[49m\u001b[43m \u001b[49m\u001b[43mfamily\u001b[49m\u001b[43m,\u001b[49m\u001b[43m \u001b[49m\u001b[43msocket\u001b[49m\u001b[38;5;241;43m.\u001b[39;49m\u001b[43mSOCK_STREAM\u001b[49m\u001b[43m)\u001b[49m:\n\u001b[0;32m     61\u001b[0m     af, socktype, proto, canonname, sa \u001b[38;5;241m=\u001b[39m res\n",
      "File \u001b[1;32mC:\\ProgramData\\miniconda3\\envs\\scraping2\\lib\\socket.py:955\u001b[0m, in \u001b[0;36mgetaddrinfo\u001b[1;34m(host, port, family, type, proto, flags)\u001b[0m\n\u001b[0;32m    954\u001b[0m addrlist \u001b[38;5;241m=\u001b[39m []\n\u001b[1;32m--> 955\u001b[0m \u001b[38;5;28;01mfor\u001b[39;00m res \u001b[38;5;129;01min\u001b[39;00m \u001b[43m_socket\u001b[49m\u001b[38;5;241;43m.\u001b[39;49m\u001b[43mgetaddrinfo\u001b[49m\u001b[43m(\u001b[49m\u001b[43mhost\u001b[49m\u001b[43m,\u001b[49m\u001b[43m \u001b[49m\u001b[43mport\u001b[49m\u001b[43m,\u001b[49m\u001b[43m \u001b[49m\u001b[43mfamily\u001b[49m\u001b[43m,\u001b[49m\u001b[43m \u001b[49m\u001b[38;5;28;43mtype\u001b[39;49m\u001b[43m,\u001b[49m\u001b[43m \u001b[49m\u001b[43mproto\u001b[49m\u001b[43m,\u001b[49m\u001b[43m \u001b[49m\u001b[43mflags\u001b[49m\u001b[43m)\u001b[49m:\n\u001b[0;32m    956\u001b[0m     af, socktype, proto, canonname, sa \u001b[38;5;241m=\u001b[39m res\n",
      "\u001b[1;31mgaierror\u001b[0m: [Errno 11002] getaddrinfo failed",
      "\nThe above exception was the direct cause of the following exception:\n",
      "\u001b[1;31mNameResolutionError\u001b[0m                       Traceback (most recent call last)",
      "File \u001b[1;32mC:\\ProgramData\\miniconda3\\envs\\scraping2\\lib\\site-packages\\urllib3\\connectionpool.py:793\u001b[0m, in \u001b[0;36mHTTPConnectionPool.urlopen\u001b[1;34m(self, method, url, body, headers, retries, redirect, assert_same_host, timeout, pool_timeout, release_conn, chunked, body_pos, preload_content, decode_content, **response_kw)\u001b[0m\n\u001b[0;32m    792\u001b[0m \u001b[38;5;66;03m# Make the request on the HTTPConnection object\u001b[39;00m\n\u001b[1;32m--> 793\u001b[0m response \u001b[38;5;241m=\u001b[39m \u001b[38;5;28mself\u001b[39m\u001b[38;5;241m.\u001b[39m_make_request(\n\u001b[0;32m    794\u001b[0m     conn,\n\u001b[0;32m    795\u001b[0m     method,\n\u001b[0;32m    796\u001b[0m     url,\n\u001b[0;32m    797\u001b[0m     timeout\u001b[38;5;241m=\u001b[39mtimeout_obj,\n\u001b[0;32m    798\u001b[0m     body\u001b[38;5;241m=\u001b[39mbody,\n\u001b[0;32m    799\u001b[0m     headers\u001b[38;5;241m=\u001b[39mheaders,\n\u001b[0;32m    800\u001b[0m     chunked\u001b[38;5;241m=\u001b[39mchunked,\n\u001b[0;32m    801\u001b[0m     retries\u001b[38;5;241m=\u001b[39mretries,\n\u001b[0;32m    802\u001b[0m     response_conn\u001b[38;5;241m=\u001b[39mresponse_conn,\n\u001b[0;32m    803\u001b[0m     preload_content\u001b[38;5;241m=\u001b[39mpreload_content,\n\u001b[0;32m    804\u001b[0m     decode_content\u001b[38;5;241m=\u001b[39mdecode_content,\n\u001b[0;32m    805\u001b[0m     \u001b[38;5;241m*\u001b[39m\u001b[38;5;241m*\u001b[39mresponse_kw,\n\u001b[0;32m    806\u001b[0m )\n\u001b[0;32m    808\u001b[0m \u001b[38;5;66;03m# Everything went great!\u001b[39;00m\n",
      "File \u001b[1;32mC:\\ProgramData\\miniconda3\\envs\\scraping2\\lib\\site-packages\\urllib3\\connectionpool.py:491\u001b[0m, in \u001b[0;36mHTTPConnectionPool._make_request\u001b[1;34m(self, conn, method, url, body, headers, retries, timeout, chunked, response_conn, preload_content, decode_content, enforce_content_length)\u001b[0m\n\u001b[0;32m    490\u001b[0m         new_e \u001b[38;5;241m=\u001b[39m _wrap_proxy_error(new_e, conn\u001b[38;5;241m.\u001b[39mproxy\u001b[38;5;241m.\u001b[39mscheme)\n\u001b[1;32m--> 491\u001b[0m     \u001b[38;5;28;01mraise\u001b[39;00m new_e\n\u001b[0;32m    493\u001b[0m \u001b[38;5;66;03m# conn.request() calls http.client.*.request, not the method in\u001b[39;00m\n\u001b[0;32m    494\u001b[0m \u001b[38;5;66;03m# urllib3.request. It also calls makefile (recv) on the socket.\u001b[39;00m\n",
      "File \u001b[1;32mC:\\ProgramData\\miniconda3\\envs\\scraping2\\lib\\site-packages\\urllib3\\connectionpool.py:467\u001b[0m, in \u001b[0;36mHTTPConnectionPool._make_request\u001b[1;34m(self, conn, method, url, body, headers, retries, timeout, chunked, response_conn, preload_content, decode_content, enforce_content_length)\u001b[0m\n\u001b[0;32m    466\u001b[0m \u001b[38;5;28;01mtry\u001b[39;00m:\n\u001b[1;32m--> 467\u001b[0m     \u001b[38;5;28;43mself\u001b[39;49m\u001b[38;5;241;43m.\u001b[39;49m\u001b[43m_validate_conn\u001b[49m\u001b[43m(\u001b[49m\u001b[43mconn\u001b[49m\u001b[43m)\u001b[49m\n\u001b[0;32m    468\u001b[0m \u001b[38;5;28;01mexcept\u001b[39;00m (SocketTimeout, BaseSSLError) \u001b[38;5;28;01mas\u001b[39;00m e:\n",
      "File \u001b[1;32mC:\\ProgramData\\miniconda3\\envs\\scraping2\\lib\\site-packages\\urllib3\\connectionpool.py:1099\u001b[0m, in \u001b[0;36mHTTPSConnectionPool._validate_conn\u001b[1;34m(self, conn)\u001b[0m\n\u001b[0;32m   1098\u001b[0m \u001b[38;5;28;01mif\u001b[39;00m conn\u001b[38;5;241m.\u001b[39mis_closed:\n\u001b[1;32m-> 1099\u001b[0m     \u001b[43mconn\u001b[49m\u001b[38;5;241;43m.\u001b[39;49m\u001b[43mconnect\u001b[49m\u001b[43m(\u001b[49m\u001b[43m)\u001b[49m\n\u001b[0;32m   1101\u001b[0m \u001b[38;5;66;03m# TODO revise this, see https://github.com/urllib3/urllib3/issues/2791\u001b[39;00m\n",
      "File \u001b[1;32mC:\\ProgramData\\miniconda3\\envs\\scraping2\\lib\\site-packages\\urllib3\\connection.py:616\u001b[0m, in \u001b[0;36mHTTPSConnection.connect\u001b[1;34m(self)\u001b[0m\n\u001b[0;32m    615\u001b[0m sock: socket\u001b[38;5;241m.\u001b[39msocket \u001b[38;5;241m|\u001b[39m ssl\u001b[38;5;241m.\u001b[39mSSLSocket\n\u001b[1;32m--> 616\u001b[0m \u001b[38;5;28mself\u001b[39m\u001b[38;5;241m.\u001b[39msock \u001b[38;5;241m=\u001b[39m sock \u001b[38;5;241m=\u001b[39m \u001b[38;5;28;43mself\u001b[39;49m\u001b[38;5;241;43m.\u001b[39;49m\u001b[43m_new_conn\u001b[49m\u001b[43m(\u001b[49m\u001b[43m)\u001b[49m\n\u001b[0;32m    617\u001b[0m server_hostname: \u001b[38;5;28mstr\u001b[39m \u001b[38;5;241m=\u001b[39m \u001b[38;5;28mself\u001b[39m\u001b[38;5;241m.\u001b[39mhost\n",
      "File \u001b[1;32mC:\\ProgramData\\miniconda3\\envs\\scraping2\\lib\\site-packages\\urllib3\\connection.py:205\u001b[0m, in \u001b[0;36mHTTPConnection._new_conn\u001b[1;34m(self)\u001b[0m\n\u001b[0;32m    204\u001b[0m \u001b[38;5;28;01mexcept\u001b[39;00m socket\u001b[38;5;241m.\u001b[39mgaierror \u001b[38;5;28;01mas\u001b[39;00m e:\n\u001b[1;32m--> 205\u001b[0m     \u001b[38;5;28;01mraise\u001b[39;00m NameResolutionError(\u001b[38;5;28mself\u001b[39m\u001b[38;5;241m.\u001b[39mhost, \u001b[38;5;28mself\u001b[39m, e) \u001b[38;5;28;01mfrom\u001b[39;00m \u001b[38;5;21;01me\u001b[39;00m\n\u001b[0;32m    206\u001b[0m \u001b[38;5;28;01mexcept\u001b[39;00m SocketTimeout \u001b[38;5;28;01mas\u001b[39;00m e:\n",
      "\u001b[1;31mNameResolutionError\u001b[0m: <urllib3.connection.HTTPSConnection object at 0x00000241052E1990>: Failed to resolve 'www.jpnn.com' ([Errno 11002] getaddrinfo failed)",
      "\nThe above exception was the direct cause of the following exception:\n",
      "\u001b[1;31mMaxRetryError\u001b[0m                             Traceback (most recent call last)",
      "File \u001b[1;32mC:\\ProgramData\\miniconda3\\envs\\scraping2\\lib\\site-packages\\requests\\adapters.py:486\u001b[0m, in \u001b[0;36mHTTPAdapter.send\u001b[1;34m(self, request, stream, timeout, verify, cert, proxies)\u001b[0m\n\u001b[0;32m    485\u001b[0m \u001b[38;5;28;01mtry\u001b[39;00m:\n\u001b[1;32m--> 486\u001b[0m     resp \u001b[38;5;241m=\u001b[39m \u001b[43mconn\u001b[49m\u001b[38;5;241;43m.\u001b[39;49m\u001b[43murlopen\u001b[49m\u001b[43m(\u001b[49m\n\u001b[0;32m    487\u001b[0m \u001b[43m        \u001b[49m\u001b[43mmethod\u001b[49m\u001b[38;5;241;43m=\u001b[39;49m\u001b[43mrequest\u001b[49m\u001b[38;5;241;43m.\u001b[39;49m\u001b[43mmethod\u001b[49m\u001b[43m,\u001b[49m\n\u001b[0;32m    488\u001b[0m \u001b[43m        \u001b[49m\u001b[43murl\u001b[49m\u001b[38;5;241;43m=\u001b[39;49m\u001b[43murl\u001b[49m\u001b[43m,\u001b[49m\n\u001b[0;32m    489\u001b[0m \u001b[43m        \u001b[49m\u001b[43mbody\u001b[49m\u001b[38;5;241;43m=\u001b[39;49m\u001b[43mrequest\u001b[49m\u001b[38;5;241;43m.\u001b[39;49m\u001b[43mbody\u001b[49m\u001b[43m,\u001b[49m\n\u001b[0;32m    490\u001b[0m \u001b[43m        \u001b[49m\u001b[43mheaders\u001b[49m\u001b[38;5;241;43m=\u001b[39;49m\u001b[43mrequest\u001b[49m\u001b[38;5;241;43m.\u001b[39;49m\u001b[43mheaders\u001b[49m\u001b[43m,\u001b[49m\n\u001b[0;32m    491\u001b[0m \u001b[43m        \u001b[49m\u001b[43mredirect\u001b[49m\u001b[38;5;241;43m=\u001b[39;49m\u001b[38;5;28;43;01mFalse\u001b[39;49;00m\u001b[43m,\u001b[49m\n\u001b[0;32m    492\u001b[0m \u001b[43m        \u001b[49m\u001b[43massert_same_host\u001b[49m\u001b[38;5;241;43m=\u001b[39;49m\u001b[38;5;28;43;01mFalse\u001b[39;49;00m\u001b[43m,\u001b[49m\n\u001b[0;32m    493\u001b[0m \u001b[43m        \u001b[49m\u001b[43mpreload_content\u001b[49m\u001b[38;5;241;43m=\u001b[39;49m\u001b[38;5;28;43;01mFalse\u001b[39;49;00m\u001b[43m,\u001b[49m\n\u001b[0;32m    494\u001b[0m \u001b[43m        \u001b[49m\u001b[43mdecode_content\u001b[49m\u001b[38;5;241;43m=\u001b[39;49m\u001b[38;5;28;43;01mFalse\u001b[39;49;00m\u001b[43m,\u001b[49m\n\u001b[0;32m    495\u001b[0m \u001b[43m        \u001b[49m\u001b[43mretries\u001b[49m\u001b[38;5;241;43m=\u001b[39;49m\u001b[38;5;28;43mself\u001b[39;49m\u001b[38;5;241;43m.\u001b[39;49m\u001b[43mmax_retries\u001b[49m\u001b[43m,\u001b[49m\n\u001b[0;32m    496\u001b[0m \u001b[43m        \u001b[49m\u001b[43mtimeout\u001b[49m\u001b[38;5;241;43m=\u001b[39;49m\u001b[43mtimeout\u001b[49m\u001b[43m,\u001b[49m\n\u001b[0;32m    497\u001b[0m \u001b[43m        \u001b[49m\u001b[43mchunked\u001b[49m\u001b[38;5;241;43m=\u001b[39;49m\u001b[43mchunked\u001b[49m\u001b[43m,\u001b[49m\n\u001b[0;32m    498\u001b[0m \u001b[43m    \u001b[49m\u001b[43m)\u001b[49m\n\u001b[0;32m    500\u001b[0m \u001b[38;5;28;01mexcept\u001b[39;00m (ProtocolError, \u001b[38;5;167;01mOSError\u001b[39;00m) \u001b[38;5;28;01mas\u001b[39;00m err:\n",
      "File \u001b[1;32mC:\\ProgramData\\miniconda3\\envs\\scraping2\\lib\\site-packages\\urllib3\\connectionpool.py:847\u001b[0m, in \u001b[0;36mHTTPConnectionPool.urlopen\u001b[1;34m(self, method, url, body, headers, retries, redirect, assert_same_host, timeout, pool_timeout, release_conn, chunked, body_pos, preload_content, decode_content, **response_kw)\u001b[0m\n\u001b[0;32m    845\u001b[0m     new_e \u001b[38;5;241m=\u001b[39m ProtocolError(\u001b[38;5;124m\"\u001b[39m\u001b[38;5;124mConnection aborted.\u001b[39m\u001b[38;5;124m\"\u001b[39m, new_e)\n\u001b[1;32m--> 847\u001b[0m retries \u001b[38;5;241m=\u001b[39m \u001b[43mretries\u001b[49m\u001b[38;5;241;43m.\u001b[39;49m\u001b[43mincrement\u001b[49m\u001b[43m(\u001b[49m\n\u001b[0;32m    848\u001b[0m \u001b[43m    \u001b[49m\u001b[43mmethod\u001b[49m\u001b[43m,\u001b[49m\u001b[43m \u001b[49m\u001b[43murl\u001b[49m\u001b[43m,\u001b[49m\u001b[43m \u001b[49m\u001b[43merror\u001b[49m\u001b[38;5;241;43m=\u001b[39;49m\u001b[43mnew_e\u001b[49m\u001b[43m,\u001b[49m\u001b[43m \u001b[49m\u001b[43m_pool\u001b[49m\u001b[38;5;241;43m=\u001b[39;49m\u001b[38;5;28;43mself\u001b[39;49m\u001b[43m,\u001b[49m\u001b[43m \u001b[49m\u001b[43m_stacktrace\u001b[49m\u001b[38;5;241;43m=\u001b[39;49m\u001b[43msys\u001b[49m\u001b[38;5;241;43m.\u001b[39;49m\u001b[43mexc_info\u001b[49m\u001b[43m(\u001b[49m\u001b[43m)\u001b[49m\u001b[43m[\u001b[49m\u001b[38;5;241;43m2\u001b[39;49m\u001b[43m]\u001b[49m\n\u001b[0;32m    849\u001b[0m \u001b[43m\u001b[49m\u001b[43m)\u001b[49m\n\u001b[0;32m    850\u001b[0m retries\u001b[38;5;241m.\u001b[39msleep()\n",
      "File \u001b[1;32mC:\\ProgramData\\miniconda3\\envs\\scraping2\\lib\\site-packages\\urllib3\\util\\retry.py:515\u001b[0m, in \u001b[0;36mRetry.increment\u001b[1;34m(self, method, url, response, error, _pool, _stacktrace)\u001b[0m\n\u001b[0;32m    514\u001b[0m     reason \u001b[38;5;241m=\u001b[39m error \u001b[38;5;129;01mor\u001b[39;00m ResponseError(cause)\n\u001b[1;32m--> 515\u001b[0m     \u001b[38;5;28;01mraise\u001b[39;00m MaxRetryError(_pool, url, reason) \u001b[38;5;28;01mfrom\u001b[39;00m \u001b[38;5;21;01mreason\u001b[39;00m  \u001b[38;5;66;03m# type: ignore[arg-type]\u001b[39;00m\n\u001b[0;32m    517\u001b[0m log\u001b[38;5;241m.\u001b[39mdebug(\u001b[38;5;124m\"\u001b[39m\u001b[38;5;124mIncremented Retry for (url=\u001b[39m\u001b[38;5;124m'\u001b[39m\u001b[38;5;132;01m%s\u001b[39;00m\u001b[38;5;124m'\u001b[39m\u001b[38;5;124m): \u001b[39m\u001b[38;5;132;01m%r\u001b[39;00m\u001b[38;5;124m\"\u001b[39m, url, new_retry)\n",
      "\u001b[1;31mMaxRetryError\u001b[0m: HTTPSConnectionPool(host='www.jpnn.com', port=443): Max retries exceeded with url: /indeks?id=&d=9&m=2&y=2024&page=13 (Caused by NameResolutionError(\"<urllib3.connection.HTTPSConnection object at 0x00000241052E1990>: Failed to resolve 'www.jpnn.com' ([Errno 11002] getaddrinfo failed)\"))",
      "\nDuring handling of the above exception, another exception occurred:\n",
      "\u001b[1;31mConnectionError\u001b[0m                           Traceback (most recent call last)",
      "Cell \u001b[1;32mIn[14], line 51\u001b[0m\n\u001b[0;32m     48\u001b[0m url2 \u001b[38;5;241m=\u001b[39m \u001b[38;5;124mf\u001b[39m\u001b[38;5;124m'\u001b[39m\u001b[38;5;132;01m{\u001b[39;00murl\u001b[38;5;132;01m}\u001b[39;00m\u001b[38;5;124m&page=\u001b[39m\u001b[38;5;132;01m{\u001b[39;00mpage\u001b[38;5;132;01m}\u001b[39;00m\u001b[38;5;124m'\u001b[39m\n\u001b[0;32m     50\u001b[0m \u001b[38;5;66;03m# Mengirim permintaan GET ke URL\u001b[39;00m\n\u001b[1;32m---> 51\u001b[0m response \u001b[38;5;241m=\u001b[39m \u001b[43mrequests\u001b[49m\u001b[38;5;241;43m.\u001b[39;49m\u001b[43mget\u001b[49m\u001b[43m(\u001b[49m\u001b[43murl2\u001b[49m\u001b[43m,\u001b[49m\u001b[43m \u001b[49m\u001b[43mverify\u001b[49m\u001b[38;5;241;43m=\u001b[39;49m\u001b[38;5;28;43;01mFalse\u001b[39;49;00m\u001b[43m)\u001b[49m  \u001b[38;5;66;03m# Menonaktifkan verifikasi SSL untuk contoh ini\u001b[39;00m\n\u001b[0;32m     53\u001b[0m \u001b[38;5;66;03m# Memastikan permintaan berhasil\u001b[39;00m\n\u001b[0;32m     54\u001b[0m \u001b[38;5;28;01mif\u001b[39;00m response\u001b[38;5;241m.\u001b[39mstatus_code \u001b[38;5;241m==\u001b[39m \u001b[38;5;241m200\u001b[39m:\n\u001b[0;32m     55\u001b[0m     \u001b[38;5;66;03m# Membuat objek lxml HTML dari respons\u001b[39;00m\n",
      "File \u001b[1;32mC:\\ProgramData\\miniconda3\\envs\\scraping2\\lib\\site-packages\\requests\\api.py:73\u001b[0m, in \u001b[0;36mget\u001b[1;34m(url, params, **kwargs)\u001b[0m\n\u001b[0;32m     62\u001b[0m \u001b[38;5;28;01mdef\u001b[39;00m \u001b[38;5;21mget\u001b[39m(url, params\u001b[38;5;241m=\u001b[39m\u001b[38;5;28;01mNone\u001b[39;00m, \u001b[38;5;241m*\u001b[39m\u001b[38;5;241m*\u001b[39mkwargs):\n\u001b[0;32m     63\u001b[0m \u001b[38;5;250m    \u001b[39m\u001b[38;5;124mr\u001b[39m\u001b[38;5;124;03m\"\"\"Sends a GET request.\u001b[39;00m\n\u001b[0;32m     64\u001b[0m \n\u001b[0;32m     65\u001b[0m \u001b[38;5;124;03m    :param url: URL for the new :class:`Request` object.\u001b[39;00m\n\u001b[1;32m   (...)\u001b[0m\n\u001b[0;32m     70\u001b[0m \u001b[38;5;124;03m    :rtype: requests.Response\u001b[39;00m\n\u001b[0;32m     71\u001b[0m \u001b[38;5;124;03m    \"\"\"\u001b[39;00m\n\u001b[1;32m---> 73\u001b[0m     \u001b[38;5;28;01mreturn\u001b[39;00m request(\u001b[38;5;124m\"\u001b[39m\u001b[38;5;124mget\u001b[39m\u001b[38;5;124m\"\u001b[39m, url, params\u001b[38;5;241m=\u001b[39mparams, \u001b[38;5;241m*\u001b[39m\u001b[38;5;241m*\u001b[39mkwargs)\n",
      "File \u001b[1;32mC:\\ProgramData\\miniconda3\\envs\\scraping2\\lib\\site-packages\\requests\\api.py:59\u001b[0m, in \u001b[0;36mrequest\u001b[1;34m(method, url, **kwargs)\u001b[0m\n\u001b[0;32m     55\u001b[0m \u001b[38;5;66;03m# By using the 'with' statement we are sure the session is closed, thus we\u001b[39;00m\n\u001b[0;32m     56\u001b[0m \u001b[38;5;66;03m# avoid leaving sockets open which can trigger a ResourceWarning in some\u001b[39;00m\n\u001b[0;32m     57\u001b[0m \u001b[38;5;66;03m# cases, and look like a memory leak in others.\u001b[39;00m\n\u001b[0;32m     58\u001b[0m \u001b[38;5;28;01mwith\u001b[39;00m sessions\u001b[38;5;241m.\u001b[39mSession() \u001b[38;5;28;01mas\u001b[39;00m session:\n\u001b[1;32m---> 59\u001b[0m     \u001b[38;5;28;01mreturn\u001b[39;00m session\u001b[38;5;241m.\u001b[39mrequest(method\u001b[38;5;241m=\u001b[39mmethod, url\u001b[38;5;241m=\u001b[39murl, \u001b[38;5;241m*\u001b[39m\u001b[38;5;241m*\u001b[39mkwargs)\n",
      "File \u001b[1;32mC:\\ProgramData\\miniconda3\\envs\\scraping2\\lib\\site-packages\\requests\\sessions.py:589\u001b[0m, in \u001b[0;36mSession.request\u001b[1;34m(self, method, url, params, data, headers, cookies, files, auth, timeout, allow_redirects, proxies, hooks, stream, verify, cert, json)\u001b[0m\n\u001b[0;32m    584\u001b[0m send_kwargs \u001b[38;5;241m=\u001b[39m {\n\u001b[0;32m    585\u001b[0m     \u001b[38;5;124m\"\u001b[39m\u001b[38;5;124mtimeout\u001b[39m\u001b[38;5;124m\"\u001b[39m: timeout,\n\u001b[0;32m    586\u001b[0m     \u001b[38;5;124m\"\u001b[39m\u001b[38;5;124mallow_redirects\u001b[39m\u001b[38;5;124m\"\u001b[39m: allow_redirects,\n\u001b[0;32m    587\u001b[0m }\n\u001b[0;32m    588\u001b[0m send_kwargs\u001b[38;5;241m.\u001b[39mupdate(settings)\n\u001b[1;32m--> 589\u001b[0m resp \u001b[38;5;241m=\u001b[39m \u001b[38;5;28mself\u001b[39m\u001b[38;5;241m.\u001b[39msend(prep, \u001b[38;5;241m*\u001b[39m\u001b[38;5;241m*\u001b[39msend_kwargs)\n\u001b[0;32m    591\u001b[0m \u001b[38;5;28;01mreturn\u001b[39;00m resp\n",
      "File \u001b[1;32mC:\\ProgramData\\miniconda3\\envs\\scraping2\\lib\\site-packages\\requests\\sessions.py:703\u001b[0m, in \u001b[0;36mSession.send\u001b[1;34m(self, request, **kwargs)\u001b[0m\n\u001b[0;32m    700\u001b[0m start \u001b[38;5;241m=\u001b[39m preferred_clock()\n\u001b[0;32m    702\u001b[0m \u001b[38;5;66;03m# Send the request\u001b[39;00m\n\u001b[1;32m--> 703\u001b[0m r \u001b[38;5;241m=\u001b[39m adapter\u001b[38;5;241m.\u001b[39msend(request, \u001b[38;5;241m*\u001b[39m\u001b[38;5;241m*\u001b[39mkwargs)\n\u001b[0;32m    705\u001b[0m \u001b[38;5;66;03m# Total elapsed time of the request (approximately)\u001b[39;00m\n\u001b[0;32m    706\u001b[0m elapsed \u001b[38;5;241m=\u001b[39m preferred_clock() \u001b[38;5;241m-\u001b[39m start\n",
      "File \u001b[1;32mC:\\ProgramData\\miniconda3\\envs\\scraping2\\lib\\site-packages\\requests\\adapters.py:519\u001b[0m, in \u001b[0;36mHTTPAdapter.send\u001b[1;34m(self, request, stream, timeout, verify, cert, proxies)\u001b[0m\n\u001b[0;32m    515\u001b[0m     \u001b[38;5;28;01mif\u001b[39;00m \u001b[38;5;28misinstance\u001b[39m(e\u001b[38;5;241m.\u001b[39mreason, _SSLError):\n\u001b[0;32m    516\u001b[0m         \u001b[38;5;66;03m# This branch is for urllib3 v1.22 and later.\u001b[39;00m\n\u001b[0;32m    517\u001b[0m         \u001b[38;5;28;01mraise\u001b[39;00m SSLError(e, request\u001b[38;5;241m=\u001b[39mrequest)\n\u001b[1;32m--> 519\u001b[0m     \u001b[38;5;28;01mraise\u001b[39;00m \u001b[38;5;167;01mConnectionError\u001b[39;00m(e, request\u001b[38;5;241m=\u001b[39mrequest)\n\u001b[0;32m    521\u001b[0m \u001b[38;5;28;01mexcept\u001b[39;00m ClosedPoolError \u001b[38;5;28;01mas\u001b[39;00m e:\n\u001b[0;32m    522\u001b[0m     \u001b[38;5;28;01mraise\u001b[39;00m \u001b[38;5;167;01mConnectionError\u001b[39;00m(e, request\u001b[38;5;241m=\u001b[39mrequest)\n",
      "\u001b[1;31mConnectionError\u001b[0m: HTTPSConnectionPool(host='www.jpnn.com', port=443): Max retries exceeded with url: /indeks?id=&d=9&m=2&y=2024&page=13 (Caused by NameResolutionError(\"<urllib3.connection.HTTPSConnection object at 0x00000241052E1990>: Failed to resolve 'www.jpnn.com' ([Errno 11002] getaddrinfo failed)\"))"
     ]
    }
   ],
   "source": [
    "# mengambil informasi per hari\n",
    "for url in tqdm(formatted_url):\n",
    "    \n",
    "    # untuk setiap harinya, kita perlu ambil jumlah pagination\n",
    "\n",
    "    # Mengirim permintaan GET ke URL\n",
    "    response = requests.get(url, verify=False)  # Menonaktifkan verifikasi SSL untuk contoh ini\n",
    "    \n",
    "    # Memastikan permintaan berhasil\n",
    "    if response.status_code == 200:\n",
    "        # Membuat objek lxml HTML dari respons\n",
    "        tree = html.fromstring(response.content)\n",
    "    else:\n",
    "        print(\"Failed to retrieve the page. Status code:\", response.status_code)\n",
    "\n",
    "\n",
    "    # Jika tidak ada elemen <li>, print 1\n",
    "    li_elements = tree.xpath('//*[@id=\"content-utama\"]//div[@class=\"separate-content-list\"]//div[@class=\"pagination\"]/ul/li/a')\n",
    "    \n",
    "    if not li_elements:\n",
    "        n_pagination = 1\n",
    "    else:\n",
    "        # Mencoba menemukan elemen \"Next\"\n",
    "        next_element = tree.xpath('//*[@id=\"content-utama\"]//div[@class=\"separate-content-list\"]//div[@class=\"pagination\"]/ul/li/a[text()=\"Next\"]/..')\n",
    "        \n",
    "        if next_element:\n",
    "            # Mendapatkan elemen sebelum \"Next\"\n",
    "            prev_element = next_element[0].getprevious()\n",
    "            if prev_element is not None:\n",
    "                number = prev_element.xpath('.//text()')[0]\n",
    "                n_pagination = number\n",
    "            else:\n",
    "                # Jika tidak ada elemen sebelum \"Next\", print 1\n",
    "                n_pagination = 1\n",
    "        else:\n",
    "            # Jika tidak ada \"Next\", ambil angka dari elemen <li> terakhir\n",
    "            last_number = li_elements[-1].xpath('.//text()')[0]\n",
    "            n_pagination = last_number\n",
    "\n",
    "\n",
    "    n_pagination = int(n_pagination)\n",
    "\n",
    "    \n",
    "    # sudah dapat pagination, lalu kita scrape tiap elemen per pagination\n",
    "    for page in range(1, n_pagination+1):\n",
    "        \n",
    "        # URL yang ingin di-scrape\n",
    "        url2 = f'{url}&page={page}'\n",
    "    \n",
    "        # Mengirim permintaan GET ke URL\n",
    "        response = requests.get(url2, verify=False)  # Menonaktifkan verifikasi SSL untuk contoh ini\n",
    "        \n",
    "        # Memastikan permintaan berhasil\n",
    "        if response.status_code == 200:\n",
    "            # Membuat objek lxml HTML dari respons\n",
    "            tree = html.fromstring(response.content)\n",
    "        else:\n",
    "            print(\"Failed to retrieve the page. Status code:\", response.status_code)\n",
    "    \n",
    "        \n",
    "        news_list = tree.xpath('//*[@id=\"content-utama\"]//ul[@class=\"content-list\"]/li')\n",
    "        \n",
    "        # Mencetak hasil\n",
    "        for news in news_list:\n",
    "            judul = \"\".join(news.xpath(\".//h1/a/text()\"))\n",
    "            href = news.xpath(\".//h1/a\")[0].get('href')\n",
    "            rubrik = \"\".join(news.xpath(\".//h6/a/strong/text()\"))\n",
    "            tanggal = \"\".join(news.xpath(\".//h6/a/span/text()\"))\n",
    "            \n",
    "            # print(judul)\n",
    "            # print(href)\n",
    "            # print(rubrik)\n",
    "            # print(tanggal)\n",
    "            # print(\"\")\n",
    "\n",
    "            # Menyimpan data ke dalam database\n",
    "            c.execute('''\n",
    "            INSERT INTO news (judul, url, rubrik, tanggal)\n",
    "            VALUES (?, ?, ?, ?)\n",
    "            ''', (judul, href, rubrik, tanggal))\n",
    "            \n",
    "        # Commit perubahan setelah setiap halaman\n",
    "        conn.commit()\n",
    "        # print(\"Data dari halaman\", url2, \"tersimpan\")\n",
    "    \n",
    "        # print(\"=======================\")\n",
    "        # print(\"\")"
   ]
  },
  {
   "cell_type": "code",
   "execution_count": null,
   "id": "41290bbb-1f0b-46c5-baf0-557d012b9ecd",
   "metadata": {},
   "outputs": [],
   "source": [
    "conn.close()"
   ]
  },
  {
   "cell_type": "code",
   "execution_count": 15,
   "id": "7ab4a624-2a1b-4cbe-95a8-d4ea0c368f01",
   "metadata": {},
   "outputs": [],
   "source": [
    "start = 51"
   ]
  },
  {
   "cell_type": "code",
   "execution_count": 17,
   "id": "cb8b26a8-7610-4a89-90b2-32f388cb1bb6",
   "metadata": {},
   "outputs": [
    {
     "name": "stderr",
     "output_type": "stream",
     "text": [
      "100%|██████████████████████████████████████████████████████████████████████████████████| 91/91 [07:02<00:00,  4.64s/it]\n"
     ]
    }
   ],
   "source": [
    "# mengambil informasi per hari\n",
    "for i in tqdm(range(0, len(formatted_url))):\n",
    "\n",
    "    if i < start:\n",
    "        continue\n",
    "        \n",
    "    url = formatted_url[i]\n",
    "    \n",
    "    # untuk setiap harinya, kita perlu ambil jumlah pagination\n",
    "\n",
    "    # Mengirim permintaan GET ke URL\n",
    "    response = requests.get(url, verify=False)  # Menonaktifkan verifikasi SSL untuk contoh ini\n",
    "    \n",
    "    # Memastikan permintaan berhasil\n",
    "    if response.status_code == 200:\n",
    "        # Membuat objek lxml HTML dari respons\n",
    "        tree = html.fromstring(response.content)\n",
    "    else:\n",
    "        print(\"Failed to retrieve the page. Status code:\", response.status_code)\n",
    "\n",
    "\n",
    "    # Jika tidak ada elemen <li>, print 1\n",
    "    li_elements = tree.xpath('//*[@id=\"content-utama\"]//div[@class=\"separate-content-list\"]//div[@class=\"pagination\"]/ul/li/a')\n",
    "    \n",
    "    if not li_elements:\n",
    "        n_pagination = 1\n",
    "    else:\n",
    "        # Mencoba menemukan elemen \"Next\"\n",
    "        next_element = tree.xpath('//*[@id=\"content-utama\"]//div[@class=\"separate-content-list\"]//div[@class=\"pagination\"]/ul/li/a[text()=\"Next\"]/..')\n",
    "        \n",
    "        if next_element:\n",
    "            # Mendapatkan elemen sebelum \"Next\"\n",
    "            prev_element = next_element[0].getprevious()\n",
    "            if prev_element is not None:\n",
    "                number = prev_element.xpath('.//text()')[0]\n",
    "                n_pagination = number\n",
    "            else:\n",
    "                # Jika tidak ada elemen sebelum \"Next\", print 1\n",
    "                n_pagination = 1\n",
    "        else:\n",
    "            # Jika tidak ada \"Next\", ambil angka dari elemen <li> terakhir\n",
    "            last_number = li_elements[-1].xpath('.//text()')[0]\n",
    "            n_pagination = last_number\n",
    "\n",
    "\n",
    "    n_pagination = int(n_pagination)\n",
    "\n",
    "    \n",
    "    # sudah dapat pagination, lalu kita scrape tiap elemen per pagination\n",
    "    for page in range(1, n_pagination+1):\n",
    "        \n",
    "        # URL yang ingin di-scrape\n",
    "        url2 = f'{url}&page={page}'\n",
    "    \n",
    "        # Mengirim permintaan GET ke URL\n",
    "        response = requests.get(url2, verify=False)  # Menonaktifkan verifikasi SSL untuk contoh ini\n",
    "        \n",
    "        # Memastikan permintaan berhasil\n",
    "        if response.status_code == 200:\n",
    "            # Membuat objek lxml HTML dari respons\n",
    "            tree = html.fromstring(response.content)\n",
    "        else:\n",
    "            print(\"Failed to retrieve the page. Status code:\", response.status_code)\n",
    "    \n",
    "        \n",
    "        news_list = tree.xpath('//*[@id=\"content-utama\"]//ul[@class=\"content-list\"]/li')\n",
    "        \n",
    "        # Mencetak hasil\n",
    "        for news in news_list:\n",
    "            judul = \"\".join(news.xpath(\".//h1/a/text()\"))\n",
    "            href = news.xpath(\".//h1/a\")[0].get('href')\n",
    "            rubrik = \"\".join(news.xpath(\".//h6/a/strong/text()\"))\n",
    "            tanggal = \"\".join(news.xpath(\".//h6/a/span/text()\"))\n",
    "            \n",
    "            # print(judul)\n",
    "            # print(href)\n",
    "            # print(rubrik)\n",
    "            # print(tanggal)\n",
    "            # print(\"\")\n",
    "\n",
    "            # Menyimpan data ke dalam database\n",
    "            c.execute('''\n",
    "            INSERT INTO news (judul, url, rubrik, tanggal)\n",
    "            VALUES (?, ?, ?, ?)\n",
    "            ''', (judul, href, rubrik, tanggal))\n",
    "            \n",
    "        # Commit perubahan setelah setiap halaman\n",
    "        conn.commit()\n",
    "        # print(\"Data dari halaman\", url2, \"tersimpan\")\n",
    "    \n",
    "        # print(\"=======================\")\n",
    "        # print(\"\")"
   ]
  },
  {
   "cell_type": "code",
   "execution_count": 18,
   "id": "bcb0c0e9-965c-437e-83ec-fcdb872cb321",
   "metadata": {},
   "outputs": [],
   "source": [
    "conn.close()"
   ]
  },
  {
   "cell_type": "code",
   "execution_count": null,
   "id": "ba292d85-34be-4cf2-a251-107b0529be75",
   "metadata": {},
   "outputs": [],
   "source": []
  },
  {
   "cell_type": "code",
   "execution_count": null,
   "id": "85e1e9bf-e7dc-45fe-b330-666b6685fdb5",
   "metadata": {},
   "outputs": [],
   "source": []
  },
  {
   "cell_type": "code",
   "execution_count": null,
   "id": "be77c7f7-4afc-4c29-8ee3-c2925e5446d1",
   "metadata": {},
   "outputs": [],
   "source": []
  },
  {
   "cell_type": "code",
   "execution_count": null,
   "id": "26fab29e-8b53-4dba-9752-be5db78e85b6",
   "metadata": {},
   "outputs": [],
   "source": [
    "\"\".join(['Kriminal'])"
   ]
  },
  {
   "cell_type": "code",
   "execution_count": null,
   "id": "e7ddc38a-8b07-477b-b62e-50592eb9163c",
   "metadata": {},
   "outputs": [],
   "source": [
    "# URL yang ingin di-scrape\n",
    "url = 'https://www.jpnn.com/indeks?id=&d=14&m=04&y=2024'"
   ]
  },
  {
   "cell_type": "code",
   "execution_count": null,
   "id": "45a2a014-99cc-4113-bcfb-8a523fc0decb",
   "metadata": {},
   "outputs": [],
   "source": [
    "# Mengirim permintaan GET ke URL\n",
    "response = requests.get(url, verify=False)  # Menonaktifkan verifikasi SSL untuk contoh ini\n",
    "\n",
    "# Memastikan permintaan berhasil\n",
    "if response.status_code == 200:\n",
    "    # Membuat objek lxml HTML dari respons\n",
    "    tree = html.fromstring(response.content)\n",
    "else:\n",
    "    print(\"Failed to retrieve the page. Status code:\", response.status_code)"
   ]
  },
  {
   "cell_type": "code",
   "execution_count": null,
   "id": "216e26aa-c3bd-4bc2-985a-7c7dab4086b6",
   "metadata": {},
   "outputs": [],
   "source": [
    "# Jika tidak ada elemen <li>, print 1\n",
    "\n",
    "li_elements = tree.xpath('//*[@id=\"content-utama\"]//div[@class=\"separate-content-list\"]//div[@class=\"pagination\"]/ul/li/a')\n",
    "\n",
    "if not li_elements:\n",
    "    n_pagination = 1\n",
    "else:\n",
    "    # Mencoba menemukan elemen \"Next\"\n",
    "    next_element = tree.xpath('//*[@id=\"content-utama\"]//div[@class=\"separate-content-list\"]//div[@class=\"pagination\"]/ul/li/a[text()=\"Next\"]/..')\n",
    "    \n",
    "    if next_element:\n",
    "        # Mendapatkan elemen sebelum \"Next\"\n",
    "        prev_element = next_element[0].getprevious()\n",
    "        if prev_element is not None:\n",
    "            number = prev_element.xpath('.//text()')[0]\n",
    "            n_pagination = number\n",
    "        else:\n",
    "            # Jika tidak ada elemen sebelum \"Next\", print 1\n",
    "            n_pagination = 1\n",
    "    else:\n",
    "        # Jika tidak ada \"Next\", ambil angka dari elemen <li> terakhir\n",
    "        last_number = li_elements[-1].xpath('.//text()')[0]\n",
    "        n_pagination = last_number"
   ]
  },
  {
   "cell_type": "code",
   "execution_count": null,
   "id": "d3917fdf-8890-40d2-bc5a-71a84fab6a88",
   "metadata": {},
   "outputs": [],
   "source": [
    "n_pagination = int(n_pagination)"
   ]
  },
  {
   "cell_type": "code",
   "execution_count": null,
   "id": "cf27bd0d-ede7-4eb1-9889-cd63f5766bc8",
   "metadata": {},
   "outputs": [],
   "source": [
    "n_pagination"
   ]
  },
  {
   "cell_type": "code",
   "execution_count": null,
   "id": "844aec51-ab0f-4856-9d10-0de4a3d2ee9f",
   "metadata": {},
   "outputs": [],
   "source": [
    "# Melakukan query XPath untuk mendapatkan elemen tertentu, contoh mengambil semua judul artikel\n",
    "\n",
    "for page in range(1, n_pagination+1):\n",
    "    \n",
    "    # URL yang ingin di-scrape\n",
    "    url = f'https://www.jpnn.com/indeks?id=&d=14&m=04&y=2024&page={page}'\n",
    "\n",
    "    # Mengirim permintaan GET ke URL\n",
    "    response = requests.get(url, verify=False)  # Menonaktifkan verifikasi SSL untuk contoh ini\n",
    "    \n",
    "    # Memastikan permintaan berhasil\n",
    "    if response.status_code == 200:\n",
    "        # Membuat objek lxml HTML dari respons\n",
    "        tree = html.fromstring(response.content)\n",
    "    else:\n",
    "        print(\"Failed to retrieve the page. Status code:\", response.status_code)\n",
    "\n",
    "    \n",
    "    news_list = tree.xpath('//*[@id=\"content-utama\"]//ul[@class=\"content-list\"]/li')\n",
    "    \n",
    "    # Mencetak hasil\n",
    "    for news in news_list:\n",
    "        judul = news.xpath(\".//h1/a/text()\")[0]\n",
    "        href = news.xpath(\".//h1/a\")[0].get('href')\n",
    "        rubrik = news.xpath(\".//h6/a/strong/text()\")[0]\n",
    "        tanggal = news.xpath(\".//h6/a/span/text()\")[0]\n",
    "        \n",
    "        print(judul)\n",
    "        print(href)\n",
    "        print(rubrik)\n",
    "        print(tanggal)\n",
    "        print(\"\")\n",
    "\n",
    "\n",
    "    print(\"=======================\")\n",
    "    print(\"\")"
   ]
  },
  {
   "cell_type": "code",
   "execution_count": null,
   "id": "d913555b-0d7f-4621-b81a-605e6d0e12db",
   "metadata": {},
   "outputs": [],
   "source": []
  },
  {
   "cell_type": "code",
   "execution_count": null,
   "id": "71a00d2d-ba90-4550-9a72-741919596283",
   "metadata": {},
   "outputs": [],
   "source": []
  },
  {
   "cell_type": "code",
   "execution_count": null,
   "id": "db401902-c935-4378-8b64-ccf5b3baf1a7",
   "metadata": {},
   "outputs": [],
   "source": [
    "# Melakukan query XPath untuk mendapatkan elemen tertentu, contoh mengambil semua judul artikel\n",
    "\n",
    "# '//*[@id=\"content-utama\"]//ul[@class=\"content-list\"]/li//h1/a/text()'\n",
    "\n",
    "news_list = tree.xpath('//*[@id=\"content-utama\"]//ul[@class=\"content-list\"]/li')\n",
    "\n",
    "# Mencetak hasil\n",
    "for news in news_list:\n",
    "    judul = news.xpath(\".//h1/a/text()\")[0]\n",
    "    href = news.xpath(\".//h1/a\")[0].get('href')\n",
    "    rubrik = news.xpath(\".//h6/a/strong/text()\")[0]\n",
    "    tanggal = news.xpath(\".//h6/a/span/text()\")[0]\n",
    "    \n",
    "    print(judul)\n",
    "    print(href)\n",
    "    print(rubrik)\n",
    "    print(tanggal)\n",
    "    print(\"\")"
   ]
  },
  {
   "cell_type": "code",
   "execution_count": null,
   "id": "e3f95cbe-fbb3-4494-aa77-a77d2f45401f",
   "metadata": {},
   "outputs": [],
   "source": [
    "href[0].get(\"href\")"
   ]
  },
  {
   "cell_type": "code",
   "execution_count": null,
   "id": "a2e3c608-5e7d-48c1-a40d-22610d3c8878",
   "metadata": {},
   "outputs": [],
   "source": [
    "\n",
    "# Membuat objek BeautifulSoup\n",
    "soup = BeautifulSoup(html, 'html.parser')\n",
    "\n",
    "# Mencari elemen link dengan teks \"Next\"\n",
    "next_link = soup.find('a', text='Next')\n",
    "\n",
    "# Mencari elemen <li> sebelum elemen yang berisi \"Next\"\n",
    "previous_li = next_link.find_parent('li').find_previous_sibling('li')\n",
    "\n",
    "# Mencari link dalam elemen tersebut dan mendapatkan teksnya\n",
    "previous_page_number = previous_li.find('a').text\n",
    "\n",
    "print(previous_page_number)"
   ]
  },
  {
   "cell_type": "code",
   "execution_count": null,
   "id": "b26b3f35-06ac-483f-b634-d3f4f8d45bb4",
   "metadata": {},
   "outputs": [],
   "source": []
  }
 ],
 "metadata": {
  "kernelspec": {
   "display_name": "Python 3 (ipykernel)",
   "language": "python",
   "name": "python3"
  },
  "language_info": {
   "codemirror_mode": {
    "name": "ipython",
    "version": 3
   },
   "file_extension": ".py",
   "mimetype": "text/x-python",
   "name": "python",
   "nbconvert_exporter": "python",
   "pygments_lexer": "ipython3",
   "version": "3.10.14"
  }
 },
 "nbformat": 4,
 "nbformat_minor": 5
}
